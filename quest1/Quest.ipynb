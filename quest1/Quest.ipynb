{
  "nbformat": 4,
  "nbformat_minor": 0,
  "metadata": {
    "colab": {
      "provenance": [],
      "include_colab_link": true
    },
    "kernelspec": {
      "name": "python3",
      "display_name": "Python 3"
    },
    "language_info": {
      "name": "python"
    }
  },
  "cells": [
    {
      "cell_type": "markdown",
      "metadata": {
        "id": "view-in-github",
        "colab_type": "text"
      },
      "source": [
        "<a href=\"https://colab.research.google.com/github/kahram-y/first-repository/blob/master/quest1/Quest.ipynb\" target=\"_parent\"><img src=\"https://colab.research.google.com/assets/colab-badge.svg\" alt=\"Open In Colab\"/></a>"
      ]
    },
    {
      "cell_type": "code",
      "execution_count": null,
      "metadata": {
        "id": "qmSNX8-U-Ew-"
      },
      "outputs": [],
      "source": [
        "import random"
      ]
    },
    {
      "cell_type": "code",
      "source": [
        "num = random.randrange(10000, 100000)"
      ],
      "metadata": {
        "id": "qBHIrNF5EwLD"
      },
      "execution_count": null,
      "outputs": []
    },
    {
      "cell_type": "code",
      "source": [
        "print(num)"
      ],
      "metadata": {
        "id": "Qgg8n0_FE5aj",
        "outputId": "a8cd4838-eb99-4c77-c419-9769893f4003",
        "colab": {
          "base_uri": "https://localhost:8080/"
        }
      },
      "execution_count": null,
      "outputs": [
        {
          "output_type": "stream",
          "name": "stdout",
          "text": [
            "86272\n"
          ]
        }
      ]
    },
    {
      "cell_type": "code",
      "source": [
        "# 정답(int->str 변환 후) list로 저장\n",
        "answer = [int(x) for x in str(num)]"
      ],
      "metadata": {
        "id": "WB0hHH0eKxFP"
      },
      "execution_count": null,
      "outputs": []
    },
    {
      "cell_type": "code",
      "source": [
        "# 정답 예측\n",
        "while strike < 5:\n",
        "    strike = 0\n",
        "    ball = 0\n",
        "    guess = input(\"숫자 5개를 적어주세요 : \")\n",
        "\n",
        "    # 입력이 5자리 숫자인지 먼저 확인\n",
        "    if not guess.isdigit() or len(guess) != 5:\n",
        "        print(\"5개의 숫자를 정확히 입력해 주세요!\")\n",
        "        continue\n",
        "\n",
        "    # 유효한 입력만 리스트로 변환\n",
        "    guess_num = [int(x) for x in guess]\n",
        "\n",
        "    # 스트라이크, 볼 카운트\n",
        "    for i in range(5):\n",
        "        if guess_num[i] == answer[i]:\n",
        "            strike += 1\n",
        "        elif guess_num[i] in answer:\n",
        "            ball += 1\n",
        "\n",
        "    print(f\"스트라이크 :{strike} 볼: {ball}\")"
      ],
      "metadata": {
        "id": "_GPSkZdzFtH4"
      },
      "execution_count": null,
      "outputs": []
    },
    {
      "cell_type": "code",
      "source": [
        "print(\"정답입니다 !\")"
      ],
      "metadata": {
        "id": "EBm-61QNFs_D",
        "colab": {
          "base_uri": "https://localhost:8080/"
        },
        "outputId": "388b7d44-b245-416c-c1eb-ef40c8ae6466"
      },
      "execution_count": null,
      "outputs": [
        {
          "output_type": "stream",
          "name": "stdout",
          "text": [
            "정답입니다 !\n"
          ]
        }
      ]
    }
  ]
}